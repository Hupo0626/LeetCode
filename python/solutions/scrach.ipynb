{
 "cells": [
  {
   "cell_type": "code",
   "execution_count": 3,
   "metadata": {},
   "outputs": [
    {
     "name": "stdout",
     "output_type": "stream",
     "text": [
      "[5, 7, 4, 6, 3, 0, 1, 2]\n"
     ]
    }
   ],
   "source": [
    "# 870\n",
    "# 根据B的value倒序排列，记录原本的index，形成一个新的数组\n",
    "B = [6,2,1,7,14,23,9,17]\n",
    "Bmapping = sorted(range(len(B)), key=lambda x: B[x], reverse=True)\n",
    "# range(len(B)) 是被排序的对象，\n",
    "# key是排列的根据，lambda k: B[k] 等价于 f(x)=B[x]，即根据B的value排序0-len(B)\n",
    "# reverse表示是否倒序排列\n",
    "print(Bmapping)"
   ]
  },
  {
   "cell_type": "code",
   "execution_count": null,
   "metadata": {
    "collapsed": true
   },
   "outputs": [],
   "source": []
  }
 ],
 "metadata": {
  "kernelspec": {
   "display_name": "Python 3",
   "language": "python",
   "name": "python3"
  },
  "language_info": {
   "codemirror_mode": {
    "name": "ipython",
    "version": 3
   },
   "file_extension": ".py",
   "mimetype": "text/x-python",
   "name": "python",
   "nbconvert_exporter": "python",
   "pygments_lexer": "ipython3",
   "version": "3.6.3"
  }
 },
 "nbformat": 4,
 "nbformat_minor": 2
}
